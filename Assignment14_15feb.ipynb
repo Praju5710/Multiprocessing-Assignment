{
 "cells": [
  {
   "cell_type": "markdown",
   "id": "e0bbdf0b-1547-49d5-9c32-bff805ff3982",
   "metadata": {},
   "source": [
    "Q1. What is multiprocessing in python? Why is it useful?"
   ]
  },
  {
   "cell_type": "markdown",
   "id": "f8a72fcd-c4a0-4a46-aeab-65f190735937",
   "metadata": {},
   "source": [
    "#### Multiprocessing in Python refers to the ability of the Python programming language to execute multiple processes simultaneously. It is a form of parallelism that allows multiple tasks to be performed concurrently, taking advantage of multi-core processors and distributing the workload across them.\n",
    "\n",
    "#### Python's multiprocessing module provides a way to create and manage multiple processes, each of which can run its own set of instructions independently. These processes can run simultaneously and can share data between them.\n",
    "\n",
    "#### Here are some reasons why multiprocessing in Python is useful:\n",
    "\n",
    "#### 1) Improved performance: By utilizing multiple processors or cores, multiprocessing can significantly improve the execution speed of CPU-bound tasks. It allows to divide a complex problem into smaller parts and process them concurrently, reducing the overall execution time.\n",
    "\n",
    "#### 2) Parallelism: Multiprocessing enables true parallelism by running multiple processes simultaneously. This is particularly beneficial for computationally intensive tasks, such as numerical computations, simulations, and data processing, where the workload can be divided and executed in parallel.\n",
    "\n",
    "#### 3) Utilizing multi-core processors: Most modern computers have multi-core processors, which can execute multiple tasks concurrently. By using multiprocessing, we can leverage the full potential of these processors and make our programs more efficient.\n",
    "\n",
    "#### 4) Responsiveness: By moving intensive computations to separate processes, multiprocessing helps prevent blocking or freezing the main program's execution. This ensures that the user interface remains responsive and doesn't get blocked while performing time-consuming tasks.\n",
    "\n",
    "#### 5) Resource isolation: Each process in multiprocessing has its own memory space, allowing for better resource management and isolation. If a process crashes or encounters an error, it won't affect other processes, making the overall system more robust."
   ]
  },
  {
   "cell_type": "markdown",
   "id": "16dc8326-b364-440e-a911-46d5770eb489",
   "metadata": {},
   "source": [
    "Q2. What are the differences between multiprocessing and multithreading?"
   ]
  },
  {
   "cell_type": "markdown",
   "id": "e8ba2b95-9ef6-42c0-9511-664fd3fb3e6c",
   "metadata": {},
   "source": [
    "#### Multiprocessing and multithreading are both approaches to achieving concurrent execution in a program, but they differ in several key aspects:\n",
    "\n",
    "#### 1) Execution model: In multiprocessing, multiple processes are created, each with its own memory space and execution context. These processes run independently and can execute on different cores or processors. In multithreading, multiple threads are created within a single process, and they share the same memory space. Threads run concurrently within the process and can execute on a single core, taking turns.\n",
    "\n",
    "#### 2) Memory sharing: In multiprocessing, each process has its own memory space, which means that data sharing between processes requires explicit mechanisms like inter-process communication (IPC) or shared memory. In multithreading, threads share the same memory space, making it easier to share data between threads through shared variables. However, shared data needs to be synchronized to avoid conflicts and ensure thread safety.\n",
    "\n",
    "#### 3) Overhead: Creating and managing processes in multiprocessing has more overhead compared to threads in multithreading. Process creation involves duplicating the entire memory space, whereas thread creation is relatively lightweight. Switching between processes also incurs more overhead compared to thread context switching.\n",
    "\n",
    "#### 4) Communication: Inter-process communication (IPC) mechanisms, such as pipes, queues, or shared memory, are typically used to facilitate communication between processes in multiprocessing. These mechanisms involve serialization and deserialization of data, adding some overhead. In multithreading, communication between threads is generally easier and faster since they can directly access shared variables.\n",
    "\n",
    "#### 5) Parallelism: Multiprocessing can achieve true parallelism by executing processes simultaneously on multiple cores or processors. This can significantly improve performance for CPU-bound tasks. In multithreading, parallelism is limited by the number of cores available since threads within a process share the same core and execute in a time-sliced manner."
   ]
  },
  {
   "cell_type": "markdown",
   "id": "ddbd9b1c-309b-4f64-adfd-c2224c494b55",
   "metadata": {},
   "source": [
    "Q3. Write a python code to create a process using the multiprocessing module."
   ]
  },
  {
   "cell_type": "code",
   "execution_count": 5,
   "id": "3e70f802-45dc-4f1d-a7ec-4a0fb11fa2be",
   "metadata": {},
   "outputs": [
    {
     "name": "stdout",
     "output_type": "stream",
     "text": [
      "Worker process executing.\n",
      "Process completed successfully.\n"
     ]
    }
   ],
   "source": [
    "import multiprocessing\n",
    "\n",
    "def worker():\n",
    "    print(\"Worker process executing.\")\n",
    "\n",
    "if __name__ == '__main__':\n",
    "    process = multiprocessing.Process(target=worker)\n",
    "    process.start()\n",
    "    process.join()\n",
    "\n",
    "    if process.exitcode == 0:\n",
    "        print(\"Process completed successfully.\")\n",
    "    else:\n",
    "        print(\"Process failed.\")    "
   ]
  },
  {
   "cell_type": "markdown",
   "id": "eb5e8368-443d-4f8e-9315-06e87a2c6a05",
   "metadata": {},
   "source": [
    "Q4. What is a multiprocessing pool in python? Why is it used?"
   ]
  },
  {
   "cell_type": "markdown",
   "id": "ccad4d9c-23e3-4033-ba30-48350e250762",
   "metadata": {},
   "source": [
    "#### A multiprocessing pool in Python, specifically the multiprocessing.Pool class, is a mechanism provided by the multiprocessing module to create a pool of worker processes. It simplifies the process of distributing tasks across multiple processes and collecting the results.\n",
    "\n",
    "#### The multiprocessing.Pool class offers several methods to parallelize the execution of a function across a pool of worker processes. The most commonly used methods are map() and apply_async().\n",
    "\n",
    "#### 1) map() method: It allows to apply a function to a sequence of inputs in parallel across the worker processes. The map() method divides the input sequence into chunks and assigns them to different processes, ensuring that each process works on a separate portion of the data. It returns the results in the order of the input sequence.\n",
    "\n",
    "#### 2) apply_async() method: It allows to submit individual tasks asynchronously to the worker processes. This method is useful when we need more fine-grained control over the execution of tasks. It returns a result object that can be used to retrieve the output of the function call.\n",
    "\n",
    "#### By using a multiprocessing pool, we can distribute the workload among multiple processes, take advantage of parallelism, and potentially achieve faster execution times for CPU-bound tasks. The pool handles the process creation, task assignment, and result collection, making it a convenient way to perform parallel computations."
   ]
  },
  {
   "cell_type": "markdown",
   "id": "07c70304-3fd1-4bc5-8480-85b95e593bfc",
   "metadata": {},
   "source": [
    "Q5.How can we create a pool of worker processes in python using the multiprocessing module?"
   ]
  },
  {
   "cell_type": "markdown",
   "id": "9f4ca49b-e639-4cef-b834-eae3fa3e880d",
   "metadata": {},
   "source": [
    "#### To create a pool of worker processes in Python using the multiprocessing module, we can utilize the multiprocessing.Pool class. Here's an example of how to create a pool of worker processes:"
   ]
  },
  {
   "cell_type": "code",
   "execution_count": 7,
   "id": "5c7beb53-832c-4a9d-b343-25649bc5d744",
   "metadata": {},
   "outputs": [
    {
     "name": "stdout",
     "output_type": "stream",
     "text": [
      "[1, 4, 9, 16, 25]\n"
     ]
    }
   ],
   "source": [
    "import multiprocessing\n",
    "\n",
    "def worker(x):\n",
    "    return x * x\n",
    "\n",
    "if __name__ == '__main__':\n",
    "    pool = multiprocessing.Pool(processes=4)\n",
    "\n",
    "    # Using the map() method\n",
    "    input_data = [1, 2, 3, 4, 5]\n",
    "    results = pool.map(worker, input_data)\n",
    "    print(results)  \n",
    "    \n",
    "\n",
    "    pool.close()\n",
    "    pool.join()"
   ]
  },
  {
   "cell_type": "markdown",
   "id": "6cc31fe2-81fe-4d89-8c69-7486645800fd",
   "metadata": {},
   "source": [
    "#### In the given example, we define a worker() function that takes a number and returns its square. We create a multiprocessing.Pool object with a specified number of worker processes = 4. The processes argument in the Pool constructor determines the number of worker processes to create.\n",
    "\n",
    "#### Once the pool is created, we can use its methods to distribute the workload across the worker processes. In this case, we use the map() method of the pool to apply the worker function to each element of the input_data list. The map() method divides the input data into chunks and assigns them to the available worker processes. It returns the results as a list in the order of the input sequence.\n",
    "\n",
    "#### After retrieving the results, we should close the pool using the close() method. This prevents any new tasks from being submitted to the pool. Finally, the join() method is called to wait for all the worker processes to complete before the program exits."
   ]
  },
  {
   "cell_type": "markdown",
   "id": "458431a7-86a6-4f94-9b3a-25b586a14390",
   "metadata": {},
   "source": [
    "Q6. Write a python program to create 4 processes, each process should print a different number using the multiprocessing module in python."
   ]
  },
  {
   "cell_type": "code",
   "execution_count": 1,
   "id": "ab1ce0c1-8d80-4d16-8c34-4ecd80d8791c",
   "metadata": {},
   "outputs": [
    {
     "name": "stdout",
     "output_type": "stream",
     "text": [
      "Process Process-1 prints 1\n",
      "Process Process-2 prints 2\n",
      "Process Process-3 prints 3\n",
      "Process Process-4 prints 4\n"
     ]
    }
   ],
   "source": [
    "import multiprocessing\n",
    "\n",
    "def print_number(number):\n",
    "    print(\"Process\" , multiprocessing.current_process().name , \"prints\" , number)\n",
    "\n",
    "if __name__ == '__main__':\n",
    "    numbers = [1, 2, 3, 4]\n",
    "    processes = []\n",
    "    for number in numbers:\n",
    "        process = multiprocessing.Process(target=print_number, args=(number,))\n",
    "        processes.append(process)\n",
    "        process.start()\n",
    "        process.join()\n"
   ]
  }
 ],
 "metadata": {
  "kernelspec": {
   "display_name": "Python 3 (ipykernel)",
   "language": "python",
   "name": "python3"
  },
  "language_info": {
   "codemirror_mode": {
    "name": "ipython",
    "version": 3
   },
   "file_extension": ".py",
   "mimetype": "text/x-python",
   "name": "python",
   "nbconvert_exporter": "python",
   "pygments_lexer": "ipython3",
   "version": "3.10.8"
  }
 },
 "nbformat": 4,
 "nbformat_minor": 5
}
